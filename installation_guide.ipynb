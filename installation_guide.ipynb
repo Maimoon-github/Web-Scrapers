{
 "cells": [
  {
   "cell_type": "markdown",
   "id": "747bbe11",
   "metadata": {},
   "source": [
    "# Web Scraping Environment Installation Guide\n",
    "\n",
    "This guide will help you set up your environment for web scraping projects. The original requirements file had version conflicts, so we've created a more flexible approach."
   ]
  },
  {
   "cell_type": "markdown",
   "id": "24e03463",
   "metadata": {},
   "source": [
    "## Option 1: Conda Environment (Recommended)\n",
    "\n",
    "Create a conda environment with Python 3.10:"
   ]
  },
  {
   "cell_type": "code",
   "execution_count": null,
   "id": "5c9cf3ac",
   "metadata": {
    "vscode": {
     "languageId": "bash"
    }
   },
   "outputs": [],
   "source": [
    "conda create -n web_scraping python=3.10\n",
    "conda activate web_scraping"
   ]
  },
  {
   "cell_type": "markdown",
   "id": "341a75fe",
   "metadata": {},
   "source": [
    "## Option 2: Install Core Packages\n",
    "\n",
    "Install the core packages using pip:"
   ]
  },
  {
   "cell_type": "code",
   "execution_count": null,
   "id": "b44e5c94",
   "metadata": {
    "vscode": {
     "languageId": "bash"
    }
   },
   "outputs": [],
   "source": [
    "pip install -r requirements.txt"
   ]
  },
  {
   "cell_type": "markdown",
   "id": "cad6a03e",
   "metadata": {},
   "source": [
    "## Option 3: Install Additional Packages As Needed\n",
    "\n",
    "You can install these packages individually if needed for specific projects:"
   ]
  },
  {
   "cell_type": "code",
   "execution_count": null,
   "id": "65e90dbe",
   "metadata": {},
   "outputs": [],
   "source": [
    "# Example of installing additional packages\n",
    "# !pip install cryptography\n",
    "# !pip install html5lib\n",
    "# !pip install service-identity"
   ]
  },
  {
   "cell_type": "markdown",
   "id": "b778ba99",
   "metadata": {},
   "source": [
    "## Verify Installation\n",
    "\n",
    "Run this cell to verify your core packages are installed correctly:"
   ]
  },
  {
   "cell_type": "code",
   "execution_count": null,
   "id": "584cdeb2",
   "metadata": {},
   "outputs": [],
   "source": [
    "import sys\n",
    "import pandas as pd\n",
    "import numpy as np\n",
    "import requests\n",
    "import matplotlib.pyplot as plt\n",
    "from bs4 import BeautifulSoup\n",
    "\n",
    "print(f\"Python version: {sys.version}\")\n",
    "print(f\"Pandas version: {pd.__version__}\")\n",
    "print(f\"NumPy version: {np.__version__}\")\n",
    "print(f\"Requests version: {requests.__version__}\")\n",
    "print(f\"Beautiful Soup version: {BeautifulSoup.__version__ if hasattr(BeautifulSoup, '__version__') else 'Not available'}\")"
   ]
  }
 ],
 "metadata": {
  "language_info": {
   "name": "python"
  }
 },
 "nbformat": 4,
 "nbformat_minor": 5
}
